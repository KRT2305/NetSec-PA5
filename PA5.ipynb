{
  "nbformat": 4,
  "nbformat_minor": 0,
  "metadata": {
    "colab": {
      "name": "PA5.ipynb",
      "provenance": []
    },
    "kernelspec": {
      "name": "python3",
      "display_name": "Python 3"
    },
    "language_info": {
      "name": "python"
    }
  },
  "cells": [
    {
      "cell_type": "code",
      "execution_count": 1,
      "metadata": {
        "id": "3N0ouZ_6C409"
      },
      "outputs": [],
      "source": [
        "import random\n",
        "from math import pow\n",
        "\n",
        "a = random.randint(2, 10)\n",
        "\n"
      ]
    },
    {
      "cell_type": "code",
      "source": [
        "def gcd(a, b):\n",
        "\tif a < b:\n",
        "\t\treturn gcd(b, a)\n",
        "\telif a % b == 0:\n",
        "\t\treturn b;\n",
        "\telse:\n",
        "\t\treturn gcd(b, a % b)\n",
        "\n",
        "def gen_key(q):\n",
        "\n",
        "\tkey = random.randint(pow(10, 20), q)\n",
        "\twhile gcd(q, key) != 1:\n",
        "\t\tkey = random.randint(pow(10, 20), q)\n",
        "\n",
        "\treturn key\n",
        "\n",
        "def power(a, b, c):\n",
        "\tx = 1\n",
        "\ty = a\n",
        "\n",
        "\twhile b > 0:\n",
        "\t\tif b % 2 != 0:\n",
        "\t\t\tx = (x * y) % c;\n",
        "\t\ty = (y * y) % c\n",
        "\t\tb = int(b / 2)\n",
        "\n",
        "\treturn x % c\n",
        "\n"
      ],
      "metadata": {
        "id": "rKsMEMYtDb7s"
      },
      "execution_count": 2,
      "outputs": []
    },
    {
      "cell_type": "code",
      "source": [
        "def encrypt(msg, q, h, g):\n",
        "\n",
        "\ten_msg = []\n",
        "\n",
        "\tk = gen_key(q)\n",
        "\ts = power(h, k, q)\n",
        "\tp = power(g, k, q)\n",
        "\t\n",
        "\tfor i in range(0, len(msg)):\n",
        "\t\ten_msg.append(msg[i])\n",
        "\n",
        "\tprint(\"g^k used : \", p)\n",
        "\tprint(\"g^ak used : \", s)\n",
        "\tfor i in range(0, len(en_msg)):\n",
        "\t\ten_msg[i] = s * ord(en_msg[i])\n",
        "\n",
        "\treturn en_msg, p\n",
        "\n",
        "def decrypt(en_msg, p, key, q):\n",
        "\n",
        "\tdr_msg = []\n",
        "\th = power(p, key, q)\n",
        "\tfor i in range(0, len(en_msg)):\n",
        "\t\tdr_msg.append(chr(int(en_msg[i]/h)))\n",
        "\t\t\n",
        "\treturn dr_msg\n",
        "\n"
      ],
      "metadata": {
        "id": "yB9d2chxDjnR"
      },
      "execution_count": 3,
      "outputs": []
    },
    {
      "cell_type": "code",
      "source": [
        "def main():\n",
        "\n",
        "\tmsg = 'encrypted'\n",
        "\tprint(\"Original Message :\", msg)\n",
        "\n",
        "\tq = random.randint(pow(10, 20), pow(10, 50))\n",
        "\tg = random.randint(2, q)\n",
        "\n",
        "\tkey = gen_key(q)# Private key for receiver\n",
        "\th = power(g, key, q)\n",
        "\tprint(\"\\n\\ng used : \", g)\n",
        "\tprint(\"g^a used : \", h)\n",
        "\n",
        "\ten_msg, p = encrypt(msg, q, h, g)\n",
        "\tdr_msg = decrypt(en_msg, p, key, q)\n",
        "\tdmsg = ''.join(dr_msg)\n",
        "\tprint(\"\\n\\nDecrypted Message :\", dmsg);\n",
        "\n"
      ],
      "metadata": {
        "id": "XdJKcU4ADeu_"
      },
      "execution_count": 14,
      "outputs": []
    },
    {
      "cell_type": "code",
      "source": [
        "main()"
      ],
      "metadata": {
        "colab": {
          "base_uri": "https://localhost:8080/"
        },
        "id": "kISmGJLZDfns",
        "outputId": "23965e3c-ad34-428b-eb4b-7aa20d3395b8"
      },
      "execution_count": 15,
      "outputs": [
        {
          "output_type": "stream",
          "name": "stdout",
          "text": [
            "Original Message : encrypted\n",
            "\n",
            "\n",
            "g used :  8891074366744652904109691205720618174318871278421\n",
            "g^a used :  253413639919556187336777276385109948040893474852\n",
            "g^k used :  11591208416538988940093232466545723822227397026530\n",
            "g^ak used :  185075445024510866123777293347053976824804420008\n",
            "\n",
            "\n",
            "Decrypted Message : encrypted\n"
          ]
        }
      ]
    },
    {
      "cell_type": "code",
      "source": [
        ""
      ],
      "metadata": {
        "id": "1ZwUNBlVDqAG"
      },
      "execution_count": null,
      "outputs": []
    }
  ]
}